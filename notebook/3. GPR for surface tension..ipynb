{
 "cells": [
  {
   "cell_type": "code",
   "execution_count": 1,
   "metadata": {},
   "outputs": [],
   "source": [
    "import sys\n",
    "sys.path.append('..')\n",
    "from run.tools import *"
   ]
  },
  {
   "cell_type": "code",
   "execution_count": 2,
   "metadata": {},
   "outputs": [
    {
     "name": "stderr",
     "output_type": "stream",
     "text": [
      "/home/xiangyan/anaconda3/envs/graphdot-dev/lib/python3.7/site-packages/sympy/printing/cxxcode.py:12: SymPyDeprecationWarning: \n",
      "\n",
      "importing from sympy.printing.cxxcode has been deprecated since SymPy\n",
      "1.7. Use Import from sympy.printing.cxx instead. See\n",
      "https://github.com/sympy/sympy/issues/20256 for more info.\n",
      "\n",
      "  deprecated_since_version=\"1.7\").warn()\n"
     ]
    },
    {
     "name": "stdout",
     "output_type": "stream",
     "text": [
      "Transforming molecules into graphs. (pure compounds)\n"
     ]
    }
   ],
   "source": [
    "# setup\n",
    "optimizer = None\n",
    "kernel, alpha = set_kernel_alpha('graph:0.01')\n",
    "single_graph, multi_graph, reaction_graph, properties = \\\n",
    "    set_graph_property('SMILES:::st')\n",
    "add_f, add_p = set_add_feature_hyperparameters('T:100')\n",
    "kernel_config = set_kernel_config(\n",
    "    kernel, add_f, add_p,\n",
    "    single_graph, multi_graph, '../hyperparameters/TMG.json',\n",
    "    'tc',\n",
    ")\n",
    "df = get_df('../run/datasets/slab-sim.txt', 'st.pkl', single_graph, multi_graph, [])"
   ]
  },
  {
   "cell_type": "code",
   "execution_count": 3,
   "metadata": {},
   "outputs": [],
   "source": [
    "# only select 1000 data to train the model as a example.\n",
    "df = df.sample(1000)\n",
    "X, y = df[['SMILES', 'T']].to_numpy(), df['st'].to_numpy()"
   ]
  },
  {
   "cell_type": "code",
   "execution_count": 4,
   "metadata": {},
   "outputs": [
    {
     "data": {
      "text/plain": [
       "<chemml.regression.GPRgraphdot.gpr.GPR at 0x7fa151d51950>"
      ]
     },
     "execution_count": 4,
     "metadata": {},
     "output_type": "execute_result"
    }
   ],
   "source": [
    "# GPR using graphdot\n",
    "from chemml.regression.GPRgraphdot.gpr import GPR\n",
    "gpr = GPR(kernel=kernel_config.kernel, optimizer=optimizer, alpha=alpha, normalize_y=True)\n",
    "gpr.fit(X, y)"
   ]
  },
  {
   "cell_type": "code",
   "execution_count": 5,
   "metadata": {},
   "outputs": [
    {
     "data": {
      "text/plain": [
       "(array([11.26942471]), array([0.25414035]))"
      ]
     },
     "execution_count": 5,
     "metadata": {},
     "output_type": "execute_result"
    }
   ],
   "source": [
    "# prediction\n",
    "smiles='CCCCCCO'\n",
    "X_ = np.asarray([[HashGraph.from_smiles(smiles, rdkit_config(), smiles), 500]])\n",
    "unify_datatype(X[:,0], X_[:,0])\n",
    "gpr.predict(X_, return_std=True)\n",
    "# The uncertainty of sklearn GPR is normalized to [0,1]"
   ]
  }
 ],
 "metadata": {
  "kernelspec": {
   "display_name": "Python 3",
   "language": "python",
   "name": "python3"
  },
  "language_info": {
   "codemirror_mode": {
    "name": "ipython",
    "version": 3
   },
   "file_extension": ".py",
   "mimetype": "text/x-python",
   "name": "python",
   "nbconvert_exporter": "python",
   "pygments_lexer": "ipython3",
   "version": "3.7.9"
  }
 },
 "nbformat": 4,
 "nbformat_minor": 4
}
