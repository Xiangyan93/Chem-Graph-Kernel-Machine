{
 "cells": [
  {
   "cell_type": "code",
   "execution_count": 1,
   "metadata": {},
   "outputs": [
    {
     "name": "stderr",
     "output_type": "stream",
     "text": [
      "/home/xiangyan/anaconda3/envs/graphdot/lib/python3.7/site-packages/tqdm/std.py:706: FutureWarning: The Panel class is removed from pandas. Accessing it from the top-level namespace will also be removed in the next version\n",
      "  from pandas import Panel\n"
     ]
    }
   ],
   "source": [
    "import sys\n",
    "sys.path.append('..')\n",
    "from run.tools import *"
   ]
  },
  {
   "cell_type": "code",
   "execution_count": 2,
   "metadata": {},
   "outputs": [
    {
     "name": "stderr",
     "output_type": "stream",
     "text": [
      "/home/xiangyan/anaconda3/envs/graphdot/lib/python3.7/site-packages/tqdm/std.py:706: FutureWarning: The Panel class is removed from pandas. Accessing it from the top-level namespace will also be removed in the next version\n",
      "  from pandas import Panel\n"
     ]
    },
    {
     "name": "stdout",
     "output_type": "stream",
     "text": [
      "Transforming molecules into graphs. (pure compounds)\n"
     ]
    },
    {
     "name": "stderr",
     "output_type": "stream",
     "text": [
      "100%|██████████| 3617/3617 [00:36<00:00, 98.95it/s] \n"
     ]
    }
   ],
   "source": [
    "# setup\n",
    "optimizer = None\n",
    "kernel, alpha = set_kernel_alpha('graph:0.01')\n",
    "single_graph, multi_graph, reaction_graph, properties = \\\n",
    "    set_graph_property('SMILES:::tc')\n",
    "add_f, add_p = set_add_feature_hyperparameters(None)\n",
    "kernel_config = set_kernel_config(\n",
    "    kernel, add_f, add_p,\n",
    "    single_graph, multi_graph, '../hyperparameters/hyper3.json',\n",
    "    'tc',\n",
    ")\n",
    "df = get_df('../run/datasets/critical-sim.txt', 'tc.pkl', single_graph, multi_graph, [])"
   ]
  },
  {
   "cell_type": "code",
   "execution_count": 3,
   "metadata": {},
   "outputs": [],
   "source": [
    "# randomly select 100 molecules to train the model as a example.\n",
    "df = df.sample(100)\n",
    "X, y = df[['SMILES']].to_numpy(), df['tc'].to_numpy()"
   ]
  },
  {
   "cell_type": "code",
   "execution_count": 4,
   "metadata": {},
   "outputs": [
    {
     "data": {
      "text/plain": [
       "GPR(alpha=0.01,\n",
       "    kernel=<chemml.kernels.GraphKernel.NormalizationMolSize object at 0x7f0fb1cb0450>,\n",
       "    optimizer=None)"
      ]
     },
     "execution_count": 4,
     "metadata": {},
     "output_type": "execute_result"
    }
   ],
   "source": [
    "# GPR using sklearn\n",
    "from chemml.regression.GPRsklearn.gpr import GPR\n",
    "gpr = GPR(kernel=kernel_config.kernel, optimizer=optimizer, alpha=alpha,y_scale=True)\n",
    "gpr.fit(X, y)"
   ]
  },
  {
   "cell_type": "code",
   "execution_count": 5,
   "metadata": {},
   "outputs": [
    {
     "data": {
      "text/plain": [
       "(array([663.90003954]), array([0.30813588]))"
      ]
     },
     "execution_count": 5,
     "metadata": {},
     "output_type": "execute_result"
    }
   ],
   "source": [
    "# prediction\n",
    "smiles='CCCCCCO'\n",
    "X_ = np.asarray([HashGraph.from_smiles(smiles, rdkit_config(), smiles)])\n",
    "unify_datatype(X.ravel(), X_)\n",
    "gpr.predict(X_, return_std=True)\n",
    "# The uncertainty of sklearn GPR is normalized to [0,1]"
   ]
  },
  {
   "cell_type": "code",
   "execution_count": 6,
   "metadata": {},
   "outputs": [
    {
     "data": {
      "text/plain": [
       "<chemml.regression.GPRgraphdot.gpr.GPR at 0x7f0f797d7bd0>"
      ]
     },
     "execution_count": 6,
     "metadata": {},
     "output_type": "execute_result"
    }
   ],
   "source": [
    "# GPR using graphdot\n",
    "from chemml.regression.GPRgraphdot.gpr import GPR\n",
    "gpr = GPR(kernel=kernel_config.kernel, optimizer=optimizer, alpha=alpha, normalize_y=True)\n",
    "gpr.fit(X, y)"
   ]
  },
  {
   "cell_type": "code",
   "execution_count": 7,
   "metadata": {},
   "outputs": [
    {
     "data": {
      "text/plain": [
       "(array([663.89994422]), array([0.30813596]))"
      ]
     },
     "execution_count": 7,
     "metadata": {},
     "output_type": "execute_result"
    }
   ],
   "source": [
    "# prediction\n",
    "gpr.predict(X_, return_std=True)"
   ]
  }
 ],
 "metadata": {
  "kernelspec": {
   "display_name": "Python 3",
   "language": "python",
   "name": "python3"
  },
  "language_info": {
   "codemirror_mode": {
    "name": "ipython",
    "version": 3
   },
   "file_extension": ".py",
   "mimetype": "text/x-python",
   "name": "python",
   "nbconvert_exporter": "python",
   "pygments_lexer": "ipython3",
   "version": "3.7.9"
  }
 },
 "nbformat": 4,
 "nbformat_minor": 4
}